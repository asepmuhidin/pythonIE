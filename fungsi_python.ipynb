{
  "nbformat": 4,
  "nbformat_minor": 0,
  "metadata": {
    "colab": {
      "provenance": [],
      "authorship_tag": "ABX9TyPCCDMST6OeYpbFHPnHJeov",
      "include_colab_link": true
    },
    "kernelspec": {
      "name": "python3",
      "display_name": "Python 3"
    },
    "language_info": {
      "name": "python"
    }
  },
  "cells": [
    {
      "cell_type": "markdown",
      "metadata": {
        "id": "view-in-github",
        "colab_type": "text"
      },
      "source": [
        "<a href=\"https://colab.research.google.com/github/asepmuhidin/pythonIE/blob/main/fungsi_python.ipynb\" target=\"_parent\"><img src=\"https://colab.research.google.com/assets/colab-badge.svg\" alt=\"Open In Colab\"/></a>"
      ]
    },
    {
      "cell_type": "code",
      "execution_count": 1,
      "metadata": {
        "id": "Px4szYABEWcU"
      },
      "outputs": [],
      "source": [
        "def cetak(msg):\n",
        "  print(msg)"
      ]
    },
    {
      "cell_type": "code",
      "source": [
        "cetak(\"Hello\")\n",
        "cetak(\"Test\")"
      ],
      "metadata": {
        "colab": {
          "base_uri": "https://localhost:8080/"
        },
        "id": "u0fGLxvWEdHI",
        "outputId": "61471db0-b91e-470f-a2c4-450f6de3e0b7"
      },
      "execution_count": 2,
      "outputs": [
        {
          "output_type": "stream",
          "name": "stdout",
          "text": [
            "Hello\n",
            "Test\n"
          ]
        }
      ]
    },
    {
      "cell_type": "code",
      "source": [
        "def luas_persegi(p,l):\n",
        "  return p*l"
      ],
      "metadata": {
        "id": "f_5Dn-8nFGqA"
      },
      "execution_count": 3,
      "outputs": []
    },
    {
      "cell_type": "code",
      "source": [
        "panjang,lebar=20,15\n",
        "luas=luas_persegi(panjang,lebar)\n",
        "print(f'Luas persegi adalah {luas}')\n",
        "\n",
        "print(f'Luas persegi dengan P=20 dan L=40, adalah {luas_persegi(20,40)}')"
      ],
      "metadata": {
        "colab": {
          "base_uri": "https://localhost:8080/"
        },
        "id": "3Mp44U96FM98",
        "outputId": "61bde3af-26dd-41e9-bcd3-2bcd1a42ed38"
      },
      "execution_count": 5,
      "outputs": [
        {
          "output_type": "stream",
          "name": "stdout",
          "text": [
            "Luas persegi adalah 300\n",
            "Luas persegi dengan P=20 dan L=40, adalah 800\n"
          ]
        }
      ]
    },
    {
      "cell_type": "code",
      "source": [
        "#Membuat fungsi luas lingkaran\n",
        "import math\n",
        "\n",
        "def luas_lingkaran(r):\n",
        "  return math.pi*r**2\n",
        "\n",
        "\n",
        "#Test Fungsi dengan nilai jari2 lingkaran adalah 10\n",
        "\n",
        "jari=100\n",
        "luaslingkaran=luas_lingkaran(jari)\n",
        "\n",
        "print(f\"Luas lingkaran dengan jari-jari {jari} adalah {luaslingkaran:,.2f}\")\n"
      ],
      "metadata": {
        "colab": {
          "base_uri": "https://localhost:8080/"
        },
        "id": "1Fc-MxVyKJgL",
        "outputId": "ed4d9377-dcfd-4ff5-edf4-44e2c44f0b4f"
      },
      "execution_count": 29,
      "outputs": [
        {
          "output_type": "stream",
          "name": "stdout",
          "text": [
            "Luas lingkaran dengan jari-jari 100 adalah 31,415.93\n"
          ]
        }
      ]
    },
    {
      "cell_type": "code",
      "source": [
        "def cek_lulus(nilai):\n",
        "  if nilai>=50:\n",
        "    return \"Lulus\"\n",
        "  else:\n",
        "    return \"Tidak Lulus\"\n",
        "\n",
        "#Cek fungsi\n",
        "nilai=40\n",
        "print(f\"Nilai anda {nilai}, maka anda {cek_lulus(nilai)} \")"
      ],
      "metadata": {
        "colab": {
          "base_uri": "https://localhost:8080/"
        },
        "id": "1CCRhIGKNQm8",
        "outputId": "b8b5353b-9ff5-456e-d7ec-c06d429a458a"
      },
      "execution_count": 31,
      "outputs": [
        {
          "output_type": "stream",
          "name": "stdout",
          "text": [
            "Nilai anda 40, maka anda Tidak Lulus \n"
          ]
        }
      ]
    }
  ]
}