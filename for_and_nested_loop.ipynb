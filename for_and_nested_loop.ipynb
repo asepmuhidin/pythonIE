{
  "nbformat": 4,
  "nbformat_minor": 0,
  "metadata": {
    "colab": {
      "provenance": [],
      "authorship_tag": "ABX9TyO8jsq2deCX/LW1Xs42nxTu",
      "include_colab_link": true
    },
    "kernelspec": {
      "name": "python3",
      "display_name": "Python 3"
    },
    "language_info": {
      "name": "python"
    }
  },
  "cells": [
    {
      "cell_type": "markdown",
      "metadata": {
        "id": "view-in-github",
        "colab_type": "text"
      },
      "source": [
        "<a href=\"https://colab.research.google.com/github/asepmuhidin/pythonIE/blob/main/for_and_nested_loop.ipynb\" target=\"_parent\"><img src=\"https://colab.research.google.com/assets/colab-badge.svg\" alt=\"Open In Colab\"/></a>"
      ]
    },
    {
      "cell_type": "code",
      "execution_count": 3,
      "metadata": {
        "colab": {
          "base_uri": "https://localhost:8080/"
        },
        "id": "PlCvJDX70sPL",
        "outputId": "f36b3892-5e11-4769-c5ca-2d21e36c8ace"
      },
      "outputs": [
        {
          "output_type": "stream",
          "name": "stdout",
          "text": [
            "Hello\n",
            "Hello\n",
            "Keluar dari loop\n"
          ]
        }
      ],
      "source": [
        "#contoh menggunakan while loop\n",
        "a=1\n",
        "while a<3:\n",
        "  print(\"Hello\")\n",
        "  a +=1  #shortcut untuk operasi a=a+1\n",
        "print(\"Keluar dari loop\")"
      ]
    },
    {
      "cell_type": "code",
      "source": [
        "#contoh menggunakan for loop\n",
        "#range(start,end,[step])\n",
        "for say in range(1,3):\n",
        "  print(\"Hello\")\n",
        "\n",
        "print(\"Keluar dari loop\")\n"
      ],
      "metadata": {
        "colab": {
          "base_uri": "https://localhost:8080/"
        },
        "id": "xT6K256e2nfq",
        "outputId": "283f96df-9f97-4e0e-b083-c874b0b94aa7"
      },
      "execution_count": 2,
      "outputs": [
        {
          "output_type": "stream",
          "name": "stdout",
          "text": [
            "Hello\n",
            "Hello\n",
            "Keluar dari loop\n"
          ]
        }
      ]
    },
    {
      "cell_type": "code",
      "source": [
        "#contoh for loop dengan step\n",
        "for bil in range(0,11,2):\n",
        "  print(bil, end=',')"
      ],
      "metadata": {
        "colab": {
          "base_uri": "https://localhost:8080/"
        },
        "id": "0iyOBxZa3W4o",
        "outputId": "bd3450e8-f5f6-4e4c-d27b-a2aa00d6c513"
      },
      "execution_count": 5,
      "outputs": [
        {
          "output_type": "stream",
          "name": "stdout",
          "text": [
            "0,2,4,6,8,10,"
          ]
        }
      ]
    },
    {
      "cell_type": "code",
      "source": [
        "#Menampilkan deretan bilangan : 5,10,15,20,25,30\n",
        "for bil in range(5,31,5):\n",
        "  print(bil, end=',')"
      ],
      "metadata": {
        "colab": {
          "base_uri": "https://localhost:8080/"
        },
        "id": "7tdH3o6b35Se",
        "outputId": "a17938da-3db1-4ede-95fb-bc0d5e10f3ad"
      },
      "execution_count": 6,
      "outputs": [
        {
          "output_type": "stream",
          "name": "stdout",
          "text": [
            "5,10,15,20,25,30,"
          ]
        }
      ]
    },
    {
      "cell_type": "code",
      "source": [
        "#menampilkan bilangan pangkat : 1,4,9,16,25,36,49,64\n",
        "for bil in range(1,9):\n",
        "  print(bil**2, end =',')\n"
      ],
      "metadata": {
        "colab": {
          "base_uri": "https://localhost:8080/"
        },
        "id": "_0R30PUA4jv3",
        "outputId": "856b584c-cff0-4d43-fb50-0f5cac8dd1ef"
      },
      "execution_count": 7,
      "outputs": [
        {
          "output_type": "stream",
          "name": "stdout",
          "text": [
            "1,4,9,16,25,36,49,64,"
          ]
        }
      ]
    },
    {
      "cell_type": "code",
      "source": [
        "#Menghitung nilai faktorial\n",
        "n=12\n",
        "f=1\n",
        "for i in range(1,n+1):\n",
        "  f *=i   # f=fxi\n",
        "\n",
        "\n",
        "print(f\"{n}!={f:,.0f}\")"
      ],
      "metadata": {
        "colab": {
          "base_uri": "https://localhost:8080/"
        },
        "id": "RikHnkiF6NCy",
        "outputId": "bb1d062a-75af-41d2-f0f1-2e70eb317d25"
      },
      "execution_count": 23,
      "outputs": [
        {
          "output_type": "stream",
          "name": "stdout",
          "text": [
            "12!=479,001,600\n"
          ]
        }
      ]
    },
    {
      "cell_type": "code",
      "source": [
        "#Menghitung bilangan pangkat\n",
        "bil_pokok=8\n",
        "bil_pangkat=7\n",
        "hasil=1\n",
        "for i in range(1,bil_pangkat+1):\n",
        "  hasil *=bil_pokok\n",
        "\n",
        "print(f\"{bil_pokok} pangkat {bil_pangkat} = {hasil:,.0f}\")\n"
      ],
      "metadata": {
        "colab": {
          "base_uri": "https://localhost:8080/"
        },
        "id": "Hwkk_0v79DdA",
        "outputId": "ee4fc9e0-0aaf-4e76-8c43-506192d74a77"
      },
      "execution_count": 25,
      "outputs": [
        {
          "output_type": "stream",
          "name": "stdout",
          "text": [
            "8 pangkat 7 = 2,097,152\n"
          ]
        }
      ]
    },
    {
      "cell_type": "code",
      "source": [
        "#Nested Loop ( Looping bersarang)\n",
        "print(\"       Tabel perkalian\")\n",
        "print(\" |\", end='')\n",
        "for j in range(1,10):\n",
        "  print(\" \",j,end='')\n",
        "print()\n",
        "print(\"===============================\")\n",
        "for i in range(1,10):\n",
        "  print(i,\"|\",end='')\n",
        "  for j in range(1,10):\n",
        "    print(i*j, end=' ')\n",
        "  print()"
      ],
      "metadata": {
        "colab": {
          "base_uri": "https://localhost:8080/"
        },
        "id": "hBxeGDyY92JC",
        "outputId": "c14dca5c-8a5f-46cb-f0be-54288d137190"
      },
      "execution_count": 33,
      "outputs": [
        {
          "output_type": "stream",
          "name": "stdout",
          "text": [
            "       Tabel perkalian\n",
            " |  1  2  3  4  5  6  7  8  9\n",
            "===============================\n",
            "1 |1 2 3 4 5 6 7 8 9 \n",
            "2 |2 4 6 8 10 12 14 16 18 \n",
            "3 |3 6 9 12 15 18 21 24 27 \n",
            "4 |4 8 12 16 20 24 28 32 36 \n",
            "5 |5 10 15 20 25 30 35 40 45 \n",
            "6 |6 12 18 24 30 36 42 48 54 \n",
            "7 |7 14 21 28 35 42 49 56 63 \n",
            "8 |8 16 24 32 40 48 56 64 72 \n",
            "9 |9 18 27 36 45 54 63 72 81 \n"
          ]
        }
      ]
    }
  ]
}