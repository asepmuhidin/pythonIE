{
  "nbformat": 4,
  "nbformat_minor": 0,
  "metadata": {
    "colab": {
      "provenance": [],
      "authorship_tag": "ABX9TyOyKymPCPAnlQH2LDLXBWrT"
    },
    "kernelspec": {
      "name": "python3",
      "display_name": "Python 3"
    },
    "language_info": {
      "name": "python"
    }
  },
  "cells": [
    {
      "cell_type": "code",
      "execution_count": null,
      "metadata": {
        "colab": {
          "base_uri": "https://localhost:8080/"
        },
        "id": "6RGWp0NWtGj8",
        "outputId": "dff1e7e9-dac8-43b8-994a-599c1ba74a94"
      },
      "outputs": [
        {
          "output_type": "stream",
          "name": "stdout",
          "text": [
            "Masukkan nilai P (Panjang) ?-10\n",
            "Masukkan nilai L (Lebar) ?5\n",
            "Nilai panjang dan lebar harus lebih besar dari 0\n"
          ]
        }
      ],
      "source": [
        "p=int(input(\"Masukkan nilai P (Panjang) ?\"))\n",
        "l=int(input(\"Masukkan nilai L (Lebar) ?\"))\n",
        "if p>=0 and l>=0 :\n",
        "  luas=p*l\n",
        "  print(f\"Luas Persegi Panjang adalah {luas}\")\n",
        "else:\n",
        "  print(\"Nilai panjang dan lebar harus lebih besar dari 0\")"
      ]
    },
    {
      "cell_type": "code",
      "source": [
        "import random as rd\n",
        "print(rd.randint(0,9))"
      ],
      "metadata": {
        "colab": {
          "base_uri": "https://localhost:8080/"
        },
        "id": "RuvSafC5vJgm",
        "outputId": "093f29e9-cc88-4b46-d8d8-18ecbb59f9b1"
      },
      "execution_count": null,
      "outputs": [
        {
          "output_type": "stream",
          "name": "stdout",
          "text": [
            "5\n"
          ]
        }
      ]
    },
    {
      "cell_type": "code",
      "source": [
        "import math\n",
        "radius=int(input(\"Masukkan nilai radius ?\"))\n",
        "if radius>=0 :\n",
        "  area=math.pi*radius**2\n",
        "  print(f\"Luas lingkaran adalah {area} dengan radius {radius}\")\n",
        "else:\n",
        "  print(\"Nilai radius harus positif\")"
      ],
      "metadata": {
        "colab": {
          "base_uri": "https://localhost:8080/"
        },
        "id": "7OOpfHfIv09r",
        "outputId": "4803a19a-6c4e-4116-e439-d5ac668986f5"
      },
      "execution_count": null,
      "outputs": [
        {
          "output_type": "stream",
          "name": "stdout",
          "text": [
            "Masukkan nilai radius ?-9\n",
            "Nilai radius harus positif\n"
          ]
        }
      ]
    },
    {
      "cell_type": "code",
      "source": [
        "bil=int(input(\"Masukkan bilangan ?\"))\n",
        "\n",
        "if bil%2==0 :\n",
        "  r='Genap'\n",
        "else:\n",
        "  r='Ganjil'\n",
        "\n",
        "print(f\"{bil} adalah bilangan {r}\")"
      ],
      "metadata": {
        "colab": {
          "base_uri": "https://localhost:8080/"
        },
        "id": "5G9ueR3yy756",
        "outputId": "50309243-abdc-4ef5-ae66-c2fc655a307e"
      },
      "execution_count": null,
      "outputs": [
        {
          "output_type": "stream",
          "name": "stdout",
          "text": [
            "Masukkan bilangan ?0\n",
            "0 adalah bilangan Genap\n"
          ]
        }
      ]
    },
    {
      "cell_type": "code",
      "source": [
        "bil=int(input(\"Masukkan bilangan ?\"))\n",
        "\n",
        "if bil%2==0 :\n",
        "  r='Genap'\n",
        "elif bil%2==1:\n",
        "  r='Ganjil'\n",
        "else:\n",
        "  r='Netral'\n",
        "\n",
        "s='Positif'\n",
        "if bil<0:\n",
        "  s='Negatif'\n",
        "\n",
        "print(f\"{bil} adalah bilangan {r} yang {s}\")\n"
      ],
      "metadata": {
        "colab": {
          "base_uri": "https://localhost:8080/"
        },
        "id": "V757SKr50QW0",
        "outputId": "b1f8aa4f-c7e2-47ca-edfa-4075a79ea031"
      },
      "execution_count": null,
      "outputs": [
        {
          "output_type": "stream",
          "name": "stdout",
          "text": [
            "Masukkan bilangan ?-90\n",
            "-90 adalah bilangan Genap yang Negatif\n"
          ]
        }
      ]
    }
  ]
}