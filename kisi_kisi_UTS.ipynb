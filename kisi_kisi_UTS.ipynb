{
  "nbformat": 4,
  "nbformat_minor": 0,
  "metadata": {
    "colab": {
      "provenance": [],
      "authorship_tag": "ABX9TyPyj1dNEb6AgID7aO92Lrja",
      "include_colab_link": true
    },
    "kernelspec": {
      "name": "python3",
      "display_name": "Python 3"
    },
    "language_info": {
      "name": "python"
    }
  },
  "cells": [
    {
      "cell_type": "markdown",
      "metadata": {
        "id": "view-in-github",
        "colab_type": "text"
      },
      "source": [
        "<a href=\"https://colab.research.google.com/github/asepmuhidin/pythonIE/blob/main/kisi_kisi_UTS.ipynb\" target=\"_parent\"><img src=\"https://colab.research.google.com/assets/colab-badge.svg\" alt=\"Open In Colab\"/></a>"
      ]
    },
    {
      "cell_type": "code",
      "execution_count": 1,
      "metadata": {
        "colab": {
          "base_uri": "https://localhost:8080/"
        },
        "id": "8Xeifap152My",
        "outputId": "cc19f766-adbf-43b7-d397-2b518717db00"
      },
      "outputs": [
        {
          "output_type": "stream",
          "name": "stdout",
          "text": [
            "Nilai a adalah 10\n"
          ]
        }
      ],
      "source": [
        "#SOAL-1 : Menampilkan data string dan variabel\n",
        "a=10\n",
        "print(f\"Nilai a adalah {a}\")"
      ]
    },
    {
      "cell_type": "code",
      "source": [
        "x=6/2*(1+2)\n",
        "print(f\"Hasil dari 6/2*(1+2) adalah {x} \")"
      ],
      "metadata": {
        "colab": {
          "base_uri": "https://localhost:8080/"
        },
        "id": "8CBMwTs06ZAB",
        "outputId": "f967ec1e-c4fa-481f-812d-ac2c8cb3f25f"
      },
      "execution_count": 3,
      "outputs": [
        {
          "output_type": "stream",
          "name": "stdout",
          "text": [
            "Hasil dari 6/2*(1+2) adalah 9.0 \n"
          ]
        }
      ]
    },
    {
      "cell_type": "code",
      "source": [
        "y=6/2*(1+2)**2\n",
        "\n",
        "print(f\"Hasil dari 6/2*(1+2)^2 adalah {y} \")"
      ],
      "metadata": {
        "colab": {
          "base_uri": "https://localhost:8080/"
        },
        "id": "tGiHHdJ36wLV",
        "outputId": "00fd0f62-15f7-44d4-c875-862df3be1674"
      },
      "execution_count": 4,
      "outputs": [
        {
          "output_type": "stream",
          "name": "stdout",
          "text": [
            "Hasil dari 6/2*(1+2)^2 adalah 27.0 \n"
          ]
        }
      ]
    },
    {
      "cell_type": "code",
      "source": [
        "#SOAL 2 : Deret Bilangan menggunakan while dan for\n",
        "#Tampilkan deret bilangan 2,4,6,8,10\n",
        "print(\"While Loop\")\n",
        "a=2\n",
        "while a<=10:\n",
        "  print(a, end=\",\")\n",
        "  a +=2\n",
        "\n",
        "print(\"\\n\\nFor Loop\")\n",
        "for i in range(2,11,2):\n",
        "  print(i, end=\",\")"
      ],
      "metadata": {
        "colab": {
          "base_uri": "https://localhost:8080/"
        },
        "id": "Ziwa6ttk8q6U",
        "outputId": "8e866684-ff79-4562-f636-4e629f46bce6"
      },
      "execution_count": 15,
      "outputs": [
        {
          "output_type": "stream",
          "name": "stdout",
          "text": [
            "While Loop\n",
            "2,4,6,8,10,\n",
            "\n",
            "For Loop\n",
            "2,4,6,8,10,"
          ]
        }
      ]
    },
    {
      "cell_type": "code",
      "source": [
        "#SOAL 3 : Buat program dari flowchart\n",
        "bil=101\n",
        "if(bil==0):\n",
        "  bilangan=\"NOL\"\n",
        "elif(bil%2==1):\n",
        "  bilangan=\"Ganjil\"\n",
        "else:\n",
        "  bilangan=\"Genap\"\n",
        "\n",
        "print(bilangan)"
      ],
      "metadata": {
        "colab": {
          "base_uri": "https://localhost:8080/"
        },
        "id": "t1Od3FevBWhr",
        "outputId": "c3540da3-31db-4e0c-9659-43dea47f4413"
      },
      "execution_count": 21,
      "outputs": [
        {
          "output_type": "stream",
          "name": "stdout",
          "text": [
            "Ganjil\n"
          ]
        }
      ]
    },
    {
      "cell_type": "code",
      "source": [
        "#SOAL 4 : Analisa output\n",
        "#contoh\n",
        "a,b=4,3\n",
        "a +=b\n",
        "a -=b\n",
        "b *=a\n",
        "\n",
        "#Berapa nilai a dan b\n",
        "\n",
        "print(a,b)\n",
        "\n"
      ],
      "metadata": {
        "colab": {
          "base_uri": "https://localhost:8080/"
        },
        "id": "b4SEX8cVCom7",
        "outputId": "4eda7b58-c9eb-4b28-96d0-1ac52b971584"
      },
      "execution_count": 22,
      "outputs": [
        {
          "output_type": "stream",
          "name": "stdout",
          "text": [
            "4 12\n"
          ]
        }
      ]
    },
    {
      "cell_type": "markdown",
      "source": [],
      "metadata": {
        "id": "M_Wu70V98zht"
      }
    }
  ]
}