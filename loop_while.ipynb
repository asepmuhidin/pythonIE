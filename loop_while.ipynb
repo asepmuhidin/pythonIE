{
  "nbformat": 4,
  "nbformat_minor": 0,
  "metadata": {
    "colab": {
      "provenance": [],
      "authorship_tag": "ABX9TyNY3CRsaxy1SkO22npqpPed",
      "include_colab_link": true
    },
    "kernelspec": {
      "name": "python3",
      "display_name": "Python 3"
    },
    "language_info": {
      "name": "python"
    }
  },
  "cells": [
    {
      "cell_type": "markdown",
      "metadata": {
        "id": "view-in-github",
        "colab_type": "text"
      },
      "source": [
        "<a href=\"https://colab.research.google.com/github/asepmuhidin/pythonIE/blob/main/loop_while.ipynb\" target=\"_parent\"><img src=\"https://colab.research.google.com/assets/colab-badge.svg\" alt=\"Open In Colab\"/></a>"
      ]
    },
    {
      "cell_type": "markdown",
      "source": [
        "# Loops\n",
        "## While Loop\n",
        "```\n",
        "init_awal\n",
        "while kondisi:\n",
        "  state_loop\n",
        "  increment init_awal\n",
        "```"
      ],
      "metadata": {
        "id": "1Ja5cxbD0OBH"
      }
    },
    {
      "cell_type": "markdown",
      "source": [
        "### Contoh Loop while"
      ],
      "metadata": {
        "id": "8M65euEV1b1v"
      }
    },
    {
      "cell_type": "code",
      "execution_count": 3,
      "metadata": {
        "colab": {
          "base_uri": "https://localhost:8080/"
        },
        "id": "BKAT-aX80M_2",
        "outputId": "56b7c505-c4ae-415e-fb77-f6b9861ef08e"
      },
      "outputs": [
        {
          "output_type": "stream",
          "name": "stdout",
          "text": [
            "Hello\n",
            "Hello\n",
            "Hello\n",
            "Hello\n",
            "Hello\n",
            "Keluar dari loop\n"
          ]
        }
      ],
      "source": [
        "a=1\n",
        "while a<=5:\n",
        "  print(\"Hello\")\n",
        "  a +=1  #shortcut untuk operasi a=a+1\n",
        "print(\"Keluar dari loop\")"
      ]
    },
    {
      "cell_type": "markdown",
      "source": [
        "### Contoh Loop dengan output nilai initial(variabel awal)"
      ],
      "metadata": {
        "id": "w_Qd5N841iJ2"
      }
    },
    {
      "cell_type": "code",
      "source": [
        "a=1\n",
        "while a<=5:\n",
        "  print(f\"{a}.Hello\")\n",
        "  a +=1"
      ],
      "metadata": {
        "colab": {
          "base_uri": "https://localhost:8080/"
        },
        "id": "3N7pqZSc1v0j",
        "outputId": "1e17b09a-c10f-4069-dc99-b7aea8a13e7c"
      },
      "execution_count": 4,
      "outputs": [
        {
          "output_type": "stream",
          "name": "stdout",
          "text": [
            "1.Hello\n",
            "2.Hello\n",
            "3.Hello\n",
            "4.Hello\n",
            "5.Hello\n"
          ]
        }
      ]
    },
    {
      "cell_type": "markdown",
      "source": [
        "### Contoh tanggal 1 sd 31\n"
      ],
      "metadata": {
        "id": "A5KcW1-32QGJ"
      }
    },
    {
      "cell_type": "code",
      "source": [
        "tgl=1\n",
        "while tgl<=31:\n",
        "  print(tgl,end=' ' )\n",
        "  tgl +=1"
      ],
      "metadata": {
        "colab": {
          "base_uri": "https://localhost:8080/"
        },
        "id": "oa1BmiKH2V8A",
        "outputId": "9d4f614e-aed3-438e-d7e3-42f71b67463d"
      },
      "execution_count": 1,
      "outputs": [
        {
          "output_type": "stream",
          "name": "stdout",
          "text": [
            "1 2 3 4 5 6 7 8 9 10 11 12 13 14 15 16 17 18 19 20 21 22 23 24 25 26 27 28 29 30 31 "
          ]
        }
      ]
    },
    {
      "cell_type": "markdown",
      "source": [
        "### Menampilkan angka kelipatan 10. contoh 10,20,30..10"
      ],
      "metadata": {
        "id": "w501jS0T3ZCA"
      }
    },
    {
      "cell_type": "code",
      "source": [
        "bil=10\n",
        "while bil<=100:\n",
        "  print(bil,end=' ' )\n",
        "  bil +=10"
      ],
      "metadata": {
        "colab": {
          "base_uri": "https://localhost:8080/"
        },
        "id": "YFLM7T393lcH",
        "outputId": "912d69c7-ebf6-4389-cac0-c20f93800e89"
      },
      "execution_count": 3,
      "outputs": [
        {
          "output_type": "stream",
          "name": "stdout",
          "text": [
            "10 20 30 40 50 60 70 80 90 100 "
          ]
        }
      ]
    },
    {
      "cell_type": "markdown",
      "source": [
        "### Menampilkan rentang tahun dari 1960 sd 2024,per 10 tahun"
      ],
      "metadata": {
        "id": "HAv_BQjq4EDr"
      }
    },
    {
      "cell_type": "code",
      "source": [
        "tahun=2024\n",
        "while tahun>=1955:\n",
        "  print(tahun,end=' ' )\n",
        "  tahun -=5"
      ],
      "metadata": {
        "colab": {
          "base_uri": "https://localhost:8080/"
        },
        "id": "Jq8i5lVZ4WGO",
        "outputId": "0c1d7783-c989-4fd2-8650-4f1b0fda22d8"
      },
      "execution_count": 6,
      "outputs": [
        {
          "output_type": "stream",
          "name": "stdout",
          "text": [
            "2024 2019 2014 2009 2004 1999 1994 1989 1984 1979 1974 1969 1964 1959 "
          ]
        }
      ]
    },
    {
      "cell_type": "markdown",
      "source": [
        "### Game Tebak angka"
      ],
      "metadata": {
        "id": "gqLG26pl6SMP"
      }
    },
    {
      "cell_type": "code",
      "source": [
        "import random\n",
        "angka=random.randint(1,100)\n",
        "\n",
        "benar =False\n",
        "jum_tebak=0;\n",
        "\n",
        "while not benar:\n",
        "  tebakan=int(input(\"Tebakan angka anda ? \"))\n",
        "  jum_tebak +=1\n",
        "\n",
        "  if tebakan > angka :\n",
        "    print(\"Tebakan anda terlalu tinggi\")\n",
        "  elif tebakan < angka :\n",
        "    print(\"Tebakan anda terlalu rendah\")\n",
        "  else:\n",
        "    print(\"Tebakan anda benar\")\n",
        "    benar=True\n",
        "\n",
        "if jum_tebak<=5:\n",
        "  grade=\"Jenius\"\n",
        "elif jum_tebak<=10:\n",
        "  grade=\"Lumayan\"\n",
        "else:\n",
        "  grade=\"Idiot\"\n",
        "\n",
        "print(f\"Anda menebak sebanyak {jum_tebak} kali\")\n",
        "print(f\"Grade anda adalah {grade}\")"
      ],
      "metadata": {
        "colab": {
          "base_uri": "https://localhost:8080/"
        },
        "id": "IquzQVLp6V8f",
        "outputId": "e6806ee5-8054-4ff6-e847-0158f0023aaf"
      },
      "execution_count": 20,
      "outputs": [
        {
          "output_type": "stream",
          "name": "stdout",
          "text": [
            "Tebakan angka anda ? 50\n",
            "Tebakan anda terlalu rendah\n",
            "Tebakan angka anda ? 75\n",
            "Tebakan anda terlalu rendah\n",
            "Tebakan angka anda ? 90\n",
            "Tebakan anda terlalu tinggi\n",
            "Tebakan angka anda ? 84\n",
            "Tebakan anda terlalu tinggi\n",
            "Tebakan angka anda ? 80\n",
            "Tebakan anda terlalu rendah\n",
            "Tebakan angka anda ? 82\n",
            "Tebakan anda terlalu rendah\n",
            "Tebakan angka anda ? 83\n",
            "Tebakan anda benar\n",
            "Anda menebak sebanyak 7 kali\n",
            "Grade anda adalah Lumayan\n"
          ]
        }
      ]
    }
  ]
}